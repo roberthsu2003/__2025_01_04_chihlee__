{
 "cells": [
  {
   "cell_type": "code",
   "execution_count": 3,
   "metadata": {},
   "outputs": [
    {
     "name": "stdout",
     "output_type": "stream",
     "text": [
      "Collecting jinja2\n",
      "  Downloading jinja2-3.1.6-py3-none-any.whl.metadata (2.9 kB)\n",
      "Collecting MarkupSafe>=2.0 (from jinja2)\n",
      "  Downloading MarkupSafe-3.0.2-cp312-cp312-manylinux_2_17_aarch64.manylinux2014_aarch64.whl.metadata (4.0 kB)\n",
      "Downloading jinja2-3.1.6-py3-none-any.whl (134 kB)\n",
      "Downloading MarkupSafe-3.0.2-cp312-cp312-manylinux_2_17_aarch64.manylinux2014_aarch64.whl (24 kB)\n",
      "Installing collected packages: MarkupSafe, jinja2\n",
      "Successfully installed MarkupSafe-3.0.2 jinja2-3.1.6\n",
      "\u001b[33mWARNING: Running pip as the 'root' user can result in broken permissions and conflicting behaviour with the system package manager, possibly rendering your system unusable.It is recommended to use a virtual environment instead: https://pip.pypa.io/warnings/venv. Use the --root-user-action option if you know what you are doing and want to suppress this warning.\u001b[0m\u001b[33m\n",
      "\u001b[0m"
     ]
    }
   ],
   "source": [
    "!pip install jinja2"
   ]
  },
  {
   "cell_type": "code",
   "execution_count": 6,
   "metadata": {},
   "outputs": [
    {
     "data": {
      "text/html": [
       "<div>\n",
       "<style scoped>\n",
       "    .dataframe tbody tr th:only-of-type {\n",
       "        vertical-align: middle;\n",
       "    }\n",
       "\n",
       "    .dataframe tbody tr th {\n",
       "        vertical-align: top;\n",
       "    }\n",
       "\n",
       "    .dataframe thead th {\n",
       "        text-align: right;\n",
       "    }\n",
       "</style>\n",
       "<table border=\"1\" class=\"dataframe\">\n",
       "  <thead>\n",
       "    <tr style=\"text-align: right;\">\n",
       "      <th></th>\n",
       "      <th>strings</th>\n",
       "      <th>ints</th>\n",
       "      <th>floats</th>\n",
       "    </tr>\n",
       "  </thead>\n",
       "  <tbody>\n",
       "    <tr>\n",
       "      <th>0</th>\n",
       "      <td>Adam</td>\n",
       "      <td>1</td>\n",
       "      <td>1.123</td>\n",
       "    </tr>\n",
       "    <tr>\n",
       "      <th>1</th>\n",
       "      <td>Mike</td>\n",
       "      <td>3</td>\n",
       "      <td>1000.230</td>\n",
       "    </tr>\n",
       "  </tbody>\n",
       "</table>\n",
       "</div>"
      ],
      "text/plain": [
       "  strings  ints    floats\n",
       "0    Adam     1     1.123\n",
       "1    Mike     3  1000.230"
      ]
     },
     "execution_count": 6,
     "metadata": {},
     "output_type": "execute_result"
    }
   ],
   "source": [
    "import pandas as pd\n",
    "import numpy as np\n",
    "import matplotlib as mpl\n",
    "\n",
    "df = pd.DataFrame({\n",
    "    \"strings\": [\"Adam\", \"Mike\"],\n",
    "    \"ints\": [1, 3],\n",
    "    \"floats\": [1.123, 1000.23]\n",
    "})\n",
    "df"
   ]
  },
  {
   "cell_type": "markdown",
   "metadata": {},
   "source": [
    "- format()\n",
    "- format_index()\n"
   ]
  },
  {
   "cell_type": "code",
   "execution_count": 11,
   "metadata": {},
   "outputs": [
    {
     "data": {
      "text/html": [
       "<style type=\"text/css\">\n",
       "</style>\n",
       "<table id=\"T_e6fb2\">\n",
       "  <thead>\n",
       "    <tr>\n",
       "      <th class=\"blank level0\" >&nbsp;</th>\n",
       "      <th id=\"T_e6fb2_level0_col0\" class=\"col_heading level0 col0\" >STRINGS</th>\n",
       "      <th id=\"T_e6fb2_level0_col1\" class=\"col_heading level0 col1\" >INTS</th>\n",
       "      <th id=\"T_e6fb2_level0_col2\" class=\"col_heading level0 col2\" >FLOATS</th>\n",
       "    </tr>\n",
       "  </thead>\n",
       "  <tbody>\n",
       "    <tr>\n",
       "      <th id=\"T_e6fb2_level0_row0\" class=\"row_heading level0 row0\" >row1</th>\n",
       "      <td id=\"T_e6fb2_row0_col0\" class=\"data row0 col0\" >Adam</td>\n",
       "      <td id=\"T_e6fb2_row0_col1\" class=\"data row0 col1\" >1</td>\n",
       "      <td id=\"T_e6fb2_row0_col2\" class=\"data row0 col2\" >1.12</td>\n",
       "    </tr>\n",
       "    <tr>\n",
       "      <th id=\"T_e6fb2_level0_row1\" class=\"row_heading level0 row1\" >row2</th>\n",
       "      <td id=\"T_e6fb2_row1_col0\" class=\"data row1 col0\" >Mike</td>\n",
       "      <td id=\"T_e6fb2_row1_col1\" class=\"data row1 col1\" >3</td>\n",
       "      <td id=\"T_e6fb2_row1_col2\" class=\"data row1 col2\" >1,000.23</td>\n",
       "    </tr>\n",
       "  </tbody>\n",
       "</table>\n"
      ],
      "text/plain": [
       "<pandas.io.formats.style.Styler at 0xffff8d9273e0>"
      ]
     },
     "execution_count": 11,
     "metadata": {},
     "output_type": "execute_result"
    }
   ],
   "source": [
    "df.style\\\n",
    ".format(\n",
    "    precision=2,\n",
    "    thousands=',',\n",
    "    decimal='.'\n",
    ").format_index(axis=1,formatter=str.upper)\\\n",
    ".relabel_index([\"row1\",\"row2\"], axis=0)"
   ]
  },
  {
   "cell_type": "code",
   "execution_count": 15,
   "metadata": {},
   "outputs": [
    {
     "data": {
      "text/html": [
       "<div>\n",
       "<style scoped>\n",
       "    .dataframe tbody tr th:only-of-type {\n",
       "        vertical-align: middle;\n",
       "    }\n",
       "\n",
       "    .dataframe tbody tr th {\n",
       "        vertical-align: top;\n",
       "    }\n",
       "\n",
       "    .dataframe thead th {\n",
       "        text-align: right;\n",
       "    }\n",
       "</style>\n",
       "<table border=\"1\" class=\"dataframe\">\n",
       "  <thead>\n",
       "    <tr style=\"text-align: right;\">\n",
       "      <th></th>\n",
       "      <th>A</th>\n",
       "      <th>B</th>\n",
       "      <th>C</th>\n",
       "      <th>D</th>\n",
       "      <th>E</th>\n",
       "    </tr>\n",
       "  </thead>\n",
       "  <tbody>\n",
       "    <tr>\n",
       "      <th>0</th>\n",
       "      <td>1234.5678</td>\n",
       "      <td>0.1234</td>\n",
       "      <td>蘋果</td>\n",
       "      <td>2023-10-26</td>\n",
       "      <td>NaN</td>\n",
       "    </tr>\n",
       "    <tr>\n",
       "      <th>1</th>\n",
       "      <td>9876.5432</td>\n",
       "      <td>0.5678</td>\n",
       "      <td>香蕉</td>\n",
       "      <td>2023-10-27</td>\n",
       "      <td>1.0</td>\n",
       "    </tr>\n",
       "    <tr>\n",
       "      <th>2</th>\n",
       "      <td>10000.0000</td>\n",
       "      <td>0.9999</td>\n",
       "      <td>櫻桃</td>\n",
       "      <td>2023-10-28</td>\n",
       "      <td>2.0</td>\n",
       "    </tr>\n",
       "  </tbody>\n",
       "</table>\n",
       "</div>"
      ],
      "text/plain": [
       "            A       B   C          D    E\n",
       "0   1234.5678  0.1234  蘋果 2023-10-26  NaN\n",
       "1   9876.5432  0.5678  香蕉 2023-10-27  1.0\n",
       "2  10000.0000  0.9999  櫻桃 2023-10-28  2.0"
      ]
     },
     "execution_count": 15,
     "metadata": {},
     "output_type": "execute_result"
    }
   ],
   "source": [
    "import pandas as pd\n",
    "import numpy as np\n",
    "\n",
    "# 範例 DataFrame\n",
    "data = {\n",
    "    'A': [1234.5678, 9876.5432, 10000.00],\n",
    "    'B': [0.1234, 0.5678, 0.9999],\n",
    "    'C': ['蘋果', '香蕉', '櫻桃'],\n",
    "    'D': pd.to_datetime(['2023-10-26', '2023-10-27', '2023-10-28']),\n",
    "    'E': [np.nan, 1, 2]\n",
    "}\n",
    "df = pd.DataFrame(data)\n",
    "df"
   ]
  },
  {
   "cell_type": "code",
   "execution_count": 22,
   "metadata": {},
   "outputs": [
    {
     "data": {
      "text/html": [
       "<style type=\"text/css\">\n",
       "</style>\n",
       "<table id=\"T_661cc\">\n",
       "  <thead>\n",
       "    <tr>\n",
       "      <th class=\"blank level0\" >&nbsp;</th>\n",
       "      <th id=\"T_661cc_level0_col0\" class=\"col_heading level0 col0\" >A</th>\n",
       "      <th id=\"T_661cc_level0_col1\" class=\"col_heading level0 col1\" >B</th>\n",
       "      <th id=\"T_661cc_level0_col2\" class=\"col_heading level0 col2\" >C</th>\n",
       "      <th id=\"T_661cc_level0_col3\" class=\"col_heading level0 col3\" >D</th>\n",
       "      <th id=\"T_661cc_level0_col4\" class=\"col_heading level0 col4\" >E</th>\n",
       "    </tr>\n",
       "  </thead>\n",
       "  <tbody>\n",
       "    <tr>\n",
       "      <th id=\"T_661cc_level0_row0\" class=\"row_heading level0 row0\" >0</th>\n",
       "      <td id=\"T_661cc_row0_col0\" class=\"data row0 col0\" >1234.57</td>\n",
       "      <td id=\"T_661cc_row0_col1\" class=\"data row0 col1\" >0.12</td>\n",
       "      <td id=\"T_661cc_row0_col2\" class=\"data row0 col2\" >蘋果</td>\n",
       "      <td id=\"T_661cc_row0_col3\" class=\"data row0 col3\" >2023-10-26 00:00:00</td>\n",
       "      <td id=\"T_661cc_row0_col4\" class=\"data row0 col4\" >nan</td>\n",
       "    </tr>\n",
       "    <tr>\n",
       "      <th id=\"T_661cc_level0_row1\" class=\"row_heading level0 row1\" >1</th>\n",
       "      <td id=\"T_661cc_row1_col0\" class=\"data row1 col0\" >9876.54</td>\n",
       "      <td id=\"T_661cc_row1_col1\" class=\"data row1 col1\" >0.57</td>\n",
       "      <td id=\"T_661cc_row1_col2\" class=\"data row1 col2\" >香蕉</td>\n",
       "      <td id=\"T_661cc_row1_col3\" class=\"data row1 col3\" >2023-10-27 00:00:00</td>\n",
       "      <td id=\"T_661cc_row1_col4\" class=\"data row1 col4\" >1.000000</td>\n",
       "    </tr>\n",
       "    <tr>\n",
       "      <th id=\"T_661cc_level0_row2\" class=\"row_heading level0 row2\" >2</th>\n",
       "      <td id=\"T_661cc_row2_col0\" class=\"data row2 col0\" >10000.00</td>\n",
       "      <td id=\"T_661cc_row2_col1\" class=\"data row2 col1\" >1.00</td>\n",
       "      <td id=\"T_661cc_row2_col2\" class=\"data row2 col2\" >櫻桃</td>\n",
       "      <td id=\"T_661cc_row2_col3\" class=\"data row2 col3\" >2023-10-28 00:00:00</td>\n",
       "      <td id=\"T_661cc_row2_col4\" class=\"data row2 col4\" >2.000000</td>\n",
       "    </tr>\n",
       "  </tbody>\n",
       "</table>\n"
      ],
      "text/plain": [
       "<pandas.io.formats.style.Styler at 0xffff6928aed0>"
      ]
     },
     "execution_count": 22,
     "metadata": {},
     "output_type": "execute_result"
    }
   ],
   "source": [
    "styled_df1 = df.style.format(\"{:.2f}\",subset=['A','B'])\n",
    "styled_df1"
   ]
  }
 ],
 "metadata": {
  "kernelspec": {
   "display_name": "base",
   "language": "python",
   "name": "python3"
  },
  "language_info": {
   "codemirror_mode": {
    "name": "ipython",
    "version": 3
   },
   "file_extension": ".py",
   "mimetype": "text/x-python",
   "name": "python",
   "nbconvert_exporter": "python",
   "pygments_lexer": "ipython3",
   "version": "3.12.8"
  }
 },
 "nbformat": 4,
 "nbformat_minor": 2
}
