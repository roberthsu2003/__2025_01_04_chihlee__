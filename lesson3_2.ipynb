{
 "cells": [
  {
   "cell_type": "code",
   "execution_count": 12,
   "metadata": {},
   "outputs": [
    {
     "data": {
      "text/plain": [
       "{'name': '徐國堂', 'age': 40, 'city': 'Taipei'}"
      ]
     },
     "execution_count": 12,
     "metadata": {},
     "output_type": "execute_result"
    }
   ],
   "source": [
    "p1 = {'name':'徐國堂',\n",
    "    'age':40,\n",
    "    'city':'Taipei'}\n",
    "p1"
   ]
  },
  {
   "cell_type": "code",
   "execution_count": 13,
   "metadata": {},
   "outputs": [
    {
     "name": "stdout",
     "output_type": "stream",
     "text": [
      "徐國堂\n",
      "40\n"
     ]
    }
   ],
   "source": [
    "print(p1['name'])\n",
    "print(p1.get('age'))"
   ]
  },
  {
   "cell_type": "code",
   "execution_count": 14,
   "metadata": {},
   "outputs": [
    {
     "data": {
      "text/plain": [
       "40"
      ]
     },
     "execution_count": 14,
     "metadata": {},
     "output_type": "execute_result"
    }
   ],
   "source": [
    "del p1['city']\n",
    "p1.pop('age')"
   ]
  },
  {
   "cell_type": "code",
   "execution_count": 15,
   "metadata": {},
   "outputs": [],
   "source": [
    "del p1"
   ]
  },
  {
   "cell_type": "code",
   "execution_count": 16,
   "metadata": {},
   "outputs": [
    {
     "ename": "NameError",
     "evalue": "name 'p1' is not defined",
     "output_type": "error",
     "traceback": [
      "\u001b[0;31m---------------------------------------------------------------------------\u001b[0m",
      "\u001b[0;31mNameError\u001b[0m                                 Traceback (most recent call last)",
      "Cell \u001b[0;32mIn[16], line 1\u001b[0m\n\u001b[0;32m----> 1\u001b[0m \u001b[43mp1\u001b[49m\n",
      "\u001b[0;31mNameError\u001b[0m: name 'p1' is not defined"
     ]
    }
   ],
   "source": [
    "p1"
   ]
  },
  {
   "cell_type": "markdown",
   "metadata": {},
   "source": [
    "- 如何依順序取出`串列資料`和`映射資料`的元素值\n",
    "- for_in迴圈"
   ]
  },
  {
   "cell_type": "code",
   "execution_count": 12,
   "metadata": {},
   "outputs": [
    {
     "name": "stdout",
     "output_type": "stream",
     "text": [
      "蘋果\n",
      "香蕉\n",
      "橘子\n"
     ]
    }
   ],
   "source": [
    "fruits = ['蘋果', '香蕉', '橘子']\n",
    "for fruit in fruits:\n",
    "    print(fruit)\n"
   ]
  },
  {
   "cell_type": "code",
   "execution_count": 15,
   "metadata": {},
   "outputs": [
    {
     "name": "stdout",
     "output_type": "stream",
     "text": [
      "0->蘋果\n",
      "==========\n",
      "1->香蕉\n",
      "==========\n",
      "2->橘子\n",
      "==========\n"
     ]
    }
   ],
   "source": [
    "for index,fruit in enumerate(fruits):\n",
    "    print(index, fruit,sep='->')\n",
    "    print(\"==========\");"
   ]
  },
  {
   "cell_type": "code",
   "execution_count": 18,
   "metadata": {},
   "outputs": [
    {
     "name": "stdout",
     "output_type": "stream",
     "text": [
      "Taipei: 台北\n",
      "New Taipei: 新北市\n",
      "Taoyuan: 桃園\n",
      "Taichung: 台中\n",
      "Tainan: 台南\n",
      "Kaohsiung: 高雄\n",
      "Keelung: 基隆\n",
      "Hsinchu: 新竹\n",
      "Chiayi: 嘉義\n",
      "Hualien: 花蓮\n"
     ]
    }
   ],
   "source": [
    "cities = {\n",
    "    'Taipei': '台北',\n",
    "    'New Taipei': '新北市',\n",
    "    'Taoyuan': '桃園',\n",
    "    'Taichung': '台中',\n",
    "    'Tainan': '台南',\n",
    "    'Kaohsiung': '高雄',\n",
    "    'Keelung': '基隆',\n",
    "    'Hsinchu': '新竹',\n",
    "    'Chiayi': '嘉義',\n",
    "    'Hualien': '花蓮'\n",
    "}\n",
    "for key, value in cities.items():\n",
    "    print(f\"{key}: {value}\")"
   ]
  },
  {
   "cell_type": "code",
   "execution_count": 20,
   "metadata": {},
   "outputs": [
    {
     "data": {
      "text/plain": [
       "[{'name': 'Student1',\n",
       "  'chinese': 95,\n",
       "  'english': 72,\n",
       "  'math': 89,\n",
       "  'history': 100,\n",
       "  'health': 80},\n",
       " {'name': 'Student2',\n",
       "  'chinese': 61,\n",
       "  'english': 91,\n",
       "  'math': 94,\n",
       "  'history': 74,\n",
       "  'health': 75},\n",
       " {'name': 'Student3',\n",
       "  'chinese': 90,\n",
       "  'english': 100,\n",
       "  'math': 62,\n",
       "  'history': 99,\n",
       "  'health': 89},\n",
       " {'name': 'Student4',\n",
       "  'chinese': 98,\n",
       "  'english': 80,\n",
       "  'math': 67,\n",
       "  'history': 76,\n",
       "  'health': 84},\n",
       " {'name': 'Student5',\n",
       "  'chinese': 90,\n",
       "  'english': 60,\n",
       "  'math': 69,\n",
       "  'history': 89,\n",
       "  'health': 81},\n",
       " {'name': 'Student6',\n",
       "  'chinese': 73,\n",
       "  'english': 70,\n",
       "  'math': 99,\n",
       "  'history': 63,\n",
       "  'health': 88},\n",
       " {'name': 'Student7',\n",
       "  'chinese': 82,\n",
       "  'english': 85,\n",
       "  'math': 88,\n",
       "  'history': 66,\n",
       "  'health': 93},\n",
       " {'name': 'Student8',\n",
       "  'chinese': 78,\n",
       "  'english': 85,\n",
       "  'math': 93,\n",
       "  'history': 62,\n",
       "  'health': 71},\n",
       " {'name': 'Student9',\n",
       "  'chinese': 86,\n",
       "  'english': 87,\n",
       "  'math': 94,\n",
       "  'history': 85,\n",
       "  'health': 90},\n",
       " {'name': 'Student10',\n",
       "  'chinese': 71,\n",
       "  'english': 96,\n",
       "  'math': 99,\n",
       "  'history': 100,\n",
       "  'health': 63},\n",
       " {'name': 'Student11',\n",
       "  'chinese': 77,\n",
       "  'english': 81,\n",
       "  'math': 60,\n",
       "  'history': 60,\n",
       "  'health': 78},\n",
       " {'name': 'Student12',\n",
       "  'chinese': 69,\n",
       "  'english': 84,\n",
       "  'math': 76,\n",
       "  'history': 93,\n",
       "  'health': 68},\n",
       " {'name': 'Student13',\n",
       "  'chinese': 99,\n",
       "  'english': 88,\n",
       "  'math': 61,\n",
       "  'history': 87,\n",
       "  'health': 99},\n",
       " {'name': 'Student14',\n",
       "  'chinese': 86,\n",
       "  'english': 72,\n",
       "  'math': 68,\n",
       "  'history': 60,\n",
       "  'health': 65},\n",
       " {'name': 'Student15',\n",
       "  'chinese': 86,\n",
       "  'english': 97,\n",
       "  'math': 94,\n",
       "  'history': 61,\n",
       "  'health': 70},\n",
       " {'name': 'Student16',\n",
       "  'chinese': 91,\n",
       "  'english': 68,\n",
       "  'math': 86,\n",
       "  'history': 64,\n",
       "  'health': 84},\n",
       " {'name': 'Student17',\n",
       "  'chinese': 88,\n",
       "  'english': 87,\n",
       "  'math': 87,\n",
       "  'history': 72,\n",
       "  'health': 96},\n",
       " {'name': 'Student18',\n",
       "  'chinese': 76,\n",
       "  'english': 76,\n",
       "  'math': 77,\n",
       "  'history': 62,\n",
       "  'health': 79},\n",
       " {'name': 'Student19',\n",
       "  'chinese': 94,\n",
       "  'english': 80,\n",
       "  'math': 91,\n",
       "  'history': 79,\n",
       "  'health': 95},\n",
       " {'name': 'Student20',\n",
       "  'chinese': 98,\n",
       "  'english': 100,\n",
       "  'math': 80,\n",
       "  'history': 94,\n",
       "  'health': 65},\n",
       " {'name': 'Student21',\n",
       "  'chinese': 90,\n",
       "  'english': 98,\n",
       "  'math': 73,\n",
       "  'history': 60,\n",
       "  'health': 72},\n",
       " {'name': 'Student22',\n",
       "  'chinese': 95,\n",
       "  'english': 72,\n",
       "  'math': 96,\n",
       "  'history': 61,\n",
       "  'health': 70},\n",
       " {'name': 'Student23',\n",
       "  'chinese': 66,\n",
       "  'english': 66,\n",
       "  'math': 84,\n",
       "  'history': 87,\n",
       "  'health': 61},\n",
       " {'name': 'Student24',\n",
       "  'chinese': 98,\n",
       "  'english': 86,\n",
       "  'math': 72,\n",
       "  'history': 100,\n",
       "  'health': 79},\n",
       " {'name': 'Student25',\n",
       "  'chinese': 78,\n",
       "  'english': 65,\n",
       "  'math': 94,\n",
       "  'history': 81,\n",
       "  'health': 82},\n",
       " {'name': 'Student26',\n",
       "  'chinese': 61,\n",
       "  'english': 76,\n",
       "  'math': 74,\n",
       "  'history': 93,\n",
       "  'health': 70},\n",
       " {'name': 'Student27',\n",
       "  'chinese': 60,\n",
       "  'english': 74,\n",
       "  'math': 90,\n",
       "  'history': 73,\n",
       "  'health': 87},\n",
       " {'name': 'Student28',\n",
       "  'chinese': 97,\n",
       "  'english': 95,\n",
       "  'math': 91,\n",
       "  'history': 97,\n",
       "  'health': 80},\n",
       " {'name': 'Student29',\n",
       "  'chinese': 89,\n",
       "  'english': 90,\n",
       "  'math': 86,\n",
       "  'history': 72,\n",
       "  'health': 66},\n",
       " {'name': 'Student30',\n",
       "  'chinese': 63,\n",
       "  'english': 63,\n",
       "  'math': 94,\n",
       "  'history': 97,\n",
       "  'health': 72},\n",
       " {'name': 'Student31',\n",
       "  'chinese': 80,\n",
       "  'english': 66,\n",
       "  'math': 86,\n",
       "  'history': 87,\n",
       "  'health': 62},\n",
       " {'name': 'Student32',\n",
       "  'chinese': 62,\n",
       "  'english': 82,\n",
       "  'math': 73,\n",
       "  'history': 83,\n",
       "  'health': 77},\n",
       " {'name': 'Student33',\n",
       "  'chinese': 87,\n",
       "  'english': 81,\n",
       "  'math': 74,\n",
       "  'history': 74,\n",
       "  'health': 68},\n",
       " {'name': 'Student34',\n",
       "  'chinese': 72,\n",
       "  'english': 96,\n",
       "  'math': 97,\n",
       "  'history': 61,\n",
       "  'health': 89},\n",
       " {'name': 'Student35',\n",
       "  'chinese': 87,\n",
       "  'english': 87,\n",
       "  'math': 83,\n",
       "  'history': 80,\n",
       "  'health': 71},\n",
       " {'name': 'Student36',\n",
       "  'chinese': 75,\n",
       "  'english': 67,\n",
       "  'math': 83,\n",
       "  'history': 91,\n",
       "  'health': 91},\n",
       " {'name': 'Student37',\n",
       "  'chinese': 75,\n",
       "  'english': 68,\n",
       "  'math': 77,\n",
       "  'history': 99,\n",
       "  'health': 89},\n",
       " {'name': 'Student38',\n",
       "  'chinese': 69,\n",
       "  'english': 68,\n",
       "  'math': 66,\n",
       "  'history': 91,\n",
       "  'health': 64},\n",
       " {'name': 'Student39',\n",
       "  'chinese': 81,\n",
       "  'english': 95,\n",
       "  'math': 76,\n",
       "  'history': 72,\n",
       "  'health': 91},\n",
       " {'name': 'Student40',\n",
       "  'chinese': 87,\n",
       "  'english': 79,\n",
       "  'math': 78,\n",
       "  'history': 88,\n",
       "  'health': 68},\n",
       " {'name': 'Student41',\n",
       "  'chinese': 87,\n",
       "  'english': 67,\n",
       "  'math': 91,\n",
       "  'history': 70,\n",
       "  'health': 83},\n",
       " {'name': 'Student42',\n",
       "  'chinese': 90,\n",
       "  'english': 63,\n",
       "  'math': 93,\n",
       "  'history': 99,\n",
       "  'health': 90},\n",
       " {'name': 'Student43',\n",
       "  'chinese': 93,\n",
       "  'english': 66,\n",
       "  'math': 100,\n",
       "  'history': 77,\n",
       "  'health': 81},\n",
       " {'name': 'Student44',\n",
       "  'chinese': 89,\n",
       "  'english': 63,\n",
       "  'math': 66,\n",
       "  'history': 83,\n",
       "  'health': 63},\n",
       " {'name': 'Student45',\n",
       "  'chinese': 93,\n",
       "  'english': 78,\n",
       "  'math': 61,\n",
       "  'history': 66,\n",
       "  'health': 71},\n",
       " {'name': 'Student46',\n",
       "  'chinese': 100,\n",
       "  'english': 64,\n",
       "  'math': 67,\n",
       "  'history': 83,\n",
       "  'health': 80},\n",
       " {'name': 'Student47',\n",
       "  'chinese': 76,\n",
       "  'english': 86,\n",
       "  'math': 96,\n",
       "  'history': 60,\n",
       "  'health': 74},\n",
       " {'name': 'Student48',\n",
       "  'chinese': 76,\n",
       "  'english': 73,\n",
       "  'math': 93,\n",
       "  'history': 82,\n",
       "  'health': 60},\n",
       " {'name': 'Student49',\n",
       "  'chinese': 77,\n",
       "  'english': 66,\n",
       "  'math': 82,\n",
       "  'history': 93,\n",
       "  'health': 74},\n",
       " {'name': 'Student50',\n",
       "  'chinese': 74,\n",
       "  'english': 63,\n",
       "  'math': 87,\n",
       "  'history': 61,\n",
       "  'health': 86}]"
      ]
     },
     "execution_count": 20,
     "metadata": {},
     "output_type": "execute_result"
    }
   ],
   "source": [
    "import random\n",
    "\n",
    "#一個學生(student)的dictionary,格式如下:\n",
    "#{'name':'value','chinese':78,'english':98,'math':67,'history':87,'health':76}\n",
    "#請使用list幫我建立50個學生\n",
    "students = []\n",
    "students.append({'name': 'Student1', 'chinese': random.randint(60, 100), 'english': random.randint(60, 100), 'math': random.randint(60, 100), 'history': random.randint(60, 100), 'health': random.randint(60, 100)})\n",
    "students.append({'name': 'Student2', 'chinese': random.randint(60, 100), 'english': random.randint(60, 100), 'math': random.randint(60, 100), 'history': random.randint(60, 100), 'health': random.randint(60, 100)})\n",
    "students.append({'name': 'Student3', 'chinese': random.randint(60, 100), 'english': random.randint(60, 100), 'math': random.randint(60, 100), 'history': random.randint(60, 100), 'health': random.randint(60, 100)})\n",
    "students.append({'name': 'Student4', 'chinese': random.randint(60, 100), 'english': random.randint(60, 100), 'math': random.randint(60, 100), 'history': random.randint(60, 100), 'health': random.randint(60, 100)})\n",
    "students.append({'name': 'Student5', 'chinese': random.randint(60, 100), 'english': random.randint(60, 100), 'math': random.randint(60, 100), 'history': random.randint(60, 100), 'health': random.randint(60, 100)})\n",
    "students.append({'name': 'Student6', 'chinese': random.randint(60, 100), 'english': random.randint(60, 100), 'math': random.randint(60, 100), 'history': random.randint(60, 100), 'health': random.randint(60, 100)})\n",
    "students.append({'name': 'Student7', 'chinese': random.randint(60, 100), 'english': random.randint(60, 100), 'math': random.randint(60, 100), 'history': random.randint(60, 100), 'health': random.randint(60, 100)})\n",
    "students.append({'name': 'Student8', 'chinese': random.randint(60, 100), 'english': random.randint(60, 100), 'math': random.randint(60, 100), 'history': random.randint(60, 100), 'health': random.randint(60, 100)})\n",
    "students.append({'name': 'Student9', 'chinese': random.randint(60, 100), 'english': random.randint(60, 100), 'math': random.randint(60, 100), 'history': random.randint(60, 100), 'health': random.randint(60, 100)})\n",
    "students.append({'name': 'Student10', 'chinese': random.randint(60, 100), 'english': random.randint(60, 100), 'math': random.randint(60, 100), 'history': random.randint(60, 100), 'health': random.randint(60, 100)})\n",
    "students.append({'name': 'Student11', 'chinese': random.randint(60, 100), 'english': random.randint(60, 100), 'math': random.randint(60, 100), 'history': random.randint(60, 100), 'health': random.randint(60, 100)})\n",
    "students.append({'name': 'Student12', 'chinese': random.randint(60, 100), 'english': random.randint(60, 100), 'math': random.randint(60, 100), 'history': random.randint(60, 100), 'health': random.randint(60, 100)})\n",
    "students.append({'name': 'Student13', 'chinese': random.randint(60, 100), 'english': random.randint(60, 100), 'math': random.randint(60, 100), 'history': random.randint(60, 100), 'health': random.randint(60, 100)})\n",
    "students.append({'name': 'Student14', 'chinese': random.randint(60, 100), 'english': random.randint(60, 100), 'math': random.randint(60, 100), 'history': random.randint(60, 100), 'health': random.randint(60, 100)})\n",
    "students.append({'name': 'Student15', 'chinese': random.randint(60, 100), 'english': random.randint(60, 100), 'math': random.randint(60, 100), 'history': random.randint(60, 100), 'health': random.randint(60, 100)})\n",
    "students.append({'name': 'Student16', 'chinese': random.randint(60, 100), 'english': random.randint(60, 100), 'math': random.randint(60, 100), 'history': random.randint(60, 100), 'health': random.randint(60, 100)})\n",
    "students.append({'name': 'Student17', 'chinese': random.randint(60, 100), 'english': random.randint(60, 100), 'math': random.randint(60, 100), 'history': random.randint(60, 100), 'health': random.randint(60, 100)})\n",
    "students.append({'name': 'Student18', 'chinese': random.randint(60, 100), 'english': random.randint(60, 100), 'math': random.randint(60, 100), 'history': random.randint(60, 100), 'health': random.randint(60, 100)})\n",
    "students.append({'name': 'Student19', 'chinese': random.randint(60, 100), 'english': random.randint(60, 100), 'math': random.randint(60, 100), 'history': random.randint(60, 100), 'health': random.randint(60, 100)})\n",
    "students.append({'name': 'Student20', 'chinese': random.randint(60, 100), 'english': random.randint(60, 100), 'math': random.randint(60, 100), 'history': random.randint(60, 100), 'health': random.randint(60, 100)})\n",
    "students.append({'name': 'Student21', 'chinese': random.randint(60, 100), 'english': random.randint(60, 100), 'math': random.randint(60, 100), 'history': random.randint(60, 100), 'health': random.randint(60, 100)})\n",
    "students.append({'name': 'Student22', 'chinese': random.randint(60, 100), 'english': random.randint(60, 100), 'math': random.randint(60, 100), 'history': random.randint(60, 100), 'health': random.randint(60, 100)})\n",
    "students.append({'name': 'Student23', 'chinese': random.randint(60, 100), 'english': random.randint(60, 100), 'math': random.randint(60, 100), 'history': random.randint(60, 100), 'health': random.randint(60, 100)})\n",
    "students.append({'name': 'Student24', 'chinese': random.randint(60, 100), 'english': random.randint(60, 100), 'math': random.randint(60, 100), 'history': random.randint(60, 100), 'health': random.randint(60, 100)})\n",
    "students.append({'name': 'Student25', 'chinese': random.randint(60, 100), 'english': random.randint(60, 100), 'math': random.randint(60, 100), 'history': random.randint(60, 100), 'health': random.randint(60, 100)})\n",
    "students.append({'name': 'Student26', 'chinese': random.randint(60, 100), 'english': random.randint(60, 100), 'math': random.randint(60, 100), 'history': random.randint(60, 100), 'health': random.randint(60, 100)})\n",
    "students.append({'name': 'Student27', 'chinese': random.randint(60, 100), 'english': random.randint(60, 100), 'math': random.randint(60, 100), 'history': random.randint(60, 100), 'health': random.randint(60, 100)})\n",
    "students.append({'name': 'Student28', 'chinese': random.randint(60, 100), 'english': random.randint(60, 100), 'math': random.randint(60, 100), 'history': random.randint(60, 100), 'health': random.randint(60, 100)})\n",
    "students.append({'name': 'Student29', 'chinese': random.randint(60, 100), 'english': random.randint(60, 100), 'math': random.randint(60, 100), 'history': random.randint(60, 100), 'health': random.randint(60, 100)})\n",
    "students.append({'name': 'Student30', 'chinese': random.randint(60, 100), 'english': random.randint(60, 100), 'math': random.randint(60, 100), 'history': random.randint(60, 100), 'health': random.randint(60, 100)})\n",
    "students.append({'name': 'Student31', 'chinese': random.randint(60, 100), 'english': random.randint(60, 100), 'math': random.randint(60, 100), 'history': random.randint(60, 100), 'health': random.randint(60, 100)})\n",
    "students.append({'name': 'Student32', 'chinese': random.randint(60, 100), 'english': random.randint(60, 100), 'math': random.randint(60, 100), 'history': random.randint(60, 100), 'health': random.randint(60, 100)})\n",
    "students.append({'name': 'Student33', 'chinese': random.randint(60, 100), 'english': random.randint(60, 100), 'math': random.randint(60, 100), 'history': random.randint(60, 100), 'health': random.randint(60, 100)})\n",
    "students.append({'name': 'Student34', 'chinese': random.randint(60, 100), 'english': random.randint(60, 100), 'math': random.randint(60, 100), 'history': random.randint(60, 100), 'health': random.randint(60, 100)})\n",
    "students.append({'name': 'Student35', 'chinese': random.randint(60, 100), 'english': random.randint(60, 100), 'math': random.randint(60, 100), 'history': random.randint(60, 100), 'health': random.randint(60, 100)})\n",
    "students.append({'name': 'Student36', 'chinese': random.randint(60, 100), 'english': random.randint(60, 100), 'math': random.randint(60, 100), 'history': random.randint(60, 100), 'health': random.randint(60, 100)})\n",
    "students.append({'name': 'Student37', 'chinese': random.randint(60, 100), 'english': random.randint(60, 100), 'math': random.randint(60, 100), 'history': random.randint(60, 100), 'health': random.randint(60, 100)})\n",
    "students.append({'name': 'Student38', 'chinese': random.randint(60, 100), 'english': random.randint(60, 100), 'math': random.randint(60, 100), 'history': random.randint(60, 100), 'health': random.randint(60, 100)})\n",
    "students.append({'name': 'Student39', 'chinese': random.randint(60, 100), 'english': random.randint(60, 100), 'math': random.randint(60, 100), 'history': random.randint(60, 100), 'health': random.randint(60, 100)})\n",
    "students.append({'name': 'Student40', 'chinese': random.randint(60, 100), 'english': random.randint(60, 100), 'math': random.randint(60, 100), 'history': random.randint(60, 100), 'health': random.randint(60, 100)})\n",
    "students.append({'name': 'Student41', 'chinese': random.randint(60, 100), 'english': random.randint(60, 100), 'math': random.randint(60, 100), 'history': random.randint(60, 100), 'health': random.randint(60, 100)})\n",
    "students.append({'name': 'Student42', 'chinese': random.randint(60, 100), 'english': random.randint(60, 100), 'math': random.randint(60, 100), 'history': random.randint(60, 100), 'health': random.randint(60, 100)})\n",
    "students.append({'name': 'Student43', 'chinese': random.randint(60, 100), 'english': random.randint(60, 100), 'math': random.randint(60, 100), 'history': random.randint(60, 100), 'health': random.randint(60, 100)})\n",
    "students.append({'name': 'Student44', 'chinese': random.randint(60, 100), 'english': random.randint(60, 100), 'math': random.randint(60, 100), 'history': random.randint(60, 100), 'health': random.randint(60, 100)})\n",
    "students.append({'name': 'Student45', 'chinese': random.randint(60, 100), 'english': random.randint(60, 100), 'math': random.randint(60, 100), 'history': random.randint(60, 100), 'health': random.randint(60, 100)})\n",
    "students.append({'name': 'Student46', 'chinese': random.randint(60, 100), 'english': random.randint(60, 100), 'math': random.randint(60, 100), 'history': random.randint(60, 100), 'health': random.randint(60, 100)})\n",
    "students.append({'name': 'Student47', 'chinese': random.randint(60, 100), 'english': random.randint(60, 100), 'math': random.randint(60, 100), 'history': random.randint(60, 100), 'health': random.randint(60, 100)})\n",
    "students.append({'name': 'Student48', 'chinese': random.randint(60, 100), 'english': random.randint(60, 100), 'math': random.randint(60, 100), 'history': random.randint(60, 100), 'health': random.randint(60, 100)})\n",
    "students.append({'name': 'Student49', 'chinese': random.randint(60, 100), 'english': random.randint(60, 100), 'math': random.randint(60, 100), 'history': random.randint(60, 100), 'health': random.randint(60, 100)})\n",
    "students.append({'name': 'Student50', 'chinese': random.randint(60, 100), 'english': random.randint(60, 100), 'math': random.randint(60, 100), 'history': random.randint(60, 100), 'health': random.randint(60, 100)})\n",
    "students"
   ]
  },
  {
   "cell_type": "code",
   "execution_count": 19,
   "metadata": {},
   "outputs": [
    {
     "data": {
      "text/plain": [
       "\"[{'name': 'student1', 'chinese': 70, 'english': 51, 'math': 53, 'history': 58, 'health': 52}, {'name': 'student2', 'chinese': 69, 'english': 66, 'math': 84, 'history': 94, 'health': 70}, {'name': 'student3', 'chinese': 87, 'english': 61, 'math': 56, 'history': 73, 'health': 72}, {'name': 'student4', 'chinese': 63, 'english': 98, 'math': 71, 'history': 53, 'health': 94}, {'name': 'student5', 'chinese': 90, 'english': 61, 'math': 76, 'history': 86, 'health': 71}, {'name': 'student6', 'chinese': 76, 'english': 79, 'math': 67, 'history': 60, 'health': 60}, {'name': 'student7', 'chinese': 100, 'english': 88, 'math': 96, 'history': 83, 'health': 60}, {'name': 'student8', 'chinese': 68, 'english': 99, 'math': 62, 'history': 87, 'health': 89}, {'name': 'student9', 'chinese': 66, 'english': 59, 'math': 78, 'history': 57, 'health': 80}, {'name': 'student10', 'chinese': 98, 'english': 73, 'math': 83, 'history': 70, 'health': 66}, {'name': 'student11', 'chinese': 90, 'english': 70, 'math': 80, 'history': 57, 'health': 75}, {'name': 'student12', 'chinese': 96, 'english': 99, 'math': 66, 'history': 86, 'health': 84}, {'name': 'student13', 'chinese': 76, 'english': 63, 'math': 81, 'history': 68, 'health': 100}, {'name': 'student14', 'chinese': 58, 'english': 93, 'math': 66, 'history': 82, 'health': 71}, {'name': 'student15', 'chinese': 65, 'english': 55, 'math': 99, 'history': 61, 'health': 56}, {'name': 'student16', 'chinese': 82, 'english': 66, 'math': 93, 'history': 67, 'health': 57}, {'name': 'student17', 'chinese': 73, 'english': 65, 'math': 66, 'history': 62, 'health': 50}, {'name': 'student18', 'chinese': 81, 'english': 63, 'math': 71, 'history': 74, 'health': 62}, {'name': 'student19', 'chinese': 54, 'english': 64, 'math': 83, 'history': 99, 'health': 65}, {'name': 'student20', 'chinese': 81, 'english': 61, 'math': 72, 'history': 64, 'health': 95}, {'name': 'student21', 'chinese': 59, 'english': 97, 'math': 98, 'history': 52, 'health': 99}, {'name': 'student22', 'chinese': 91, 'english': 96, 'math': 63, 'history': 81, 'health': 61}, {'name': 'student23', 'chinese': 57, 'english': 74, 'math': 88, 'history': 75, 'health': 65}, {'name': 'student24', 'chinese': 85, 'english': 81, 'math': 63, 'history': 96, 'health': 65}, {'name': 'student25', 'chinese': 78, 'english': 88, 'math': 83, 'history': 87, 'health': 99}, {'name': 'student26', 'chinese': 63, 'english': 83, 'math': 92, 'history': 72, 'health': 57}, {'name': 'student27', 'chinese': 78, 'english': 97, 'math': 100, 'history': 82, 'health': 85}, {'name': 'student28', 'chinese': 82, 'english': 57, 'math': 78, 'history': 88, 'health': 58}, {'name': 'student29', 'chinese': 77, 'english': 56, 'math': 66, 'history': 72, 'health': 50}, {'name': 'student30', 'chinese': 100, 'english': 66, 'math': 76, 'history': 78, 'health': 86}, {'name': 'student31', 'chinese': 85, 'english': 97, 'math': 82, 'history': 76, 'health': 72}, {'name': 'student32', 'chinese': 83, 'english': 53, 'math': 52, 'history': 53, 'health': 58}, {'name': 'student33', 'chinese': 63, 'english': 87, 'math': 65, 'history': 72, 'health': 52}, {'name': 'student34', 'chinese': 55, 'english': 78, 'math': 60, 'history': 64, 'health': 69}, {'name': 'student35', 'chinese': 62, 'english': 89, 'math': 92, 'history': 79, 'health': 71}, {'name': 'student36', 'chinese': 87, 'english': 92, 'math': 50, 'history': 96, 'health': 94}, {'name': 'student37', 'chinese': 81, 'english': 97, 'math': 51, 'history': 98, 'health': 71}, {'name': 'student38', 'chinese': 62, 'english': 66, 'math': 53, 'history': 85, 'health': 88}, {'name': 'student39', 'chinese': 83, 'english': 73, 'math': 73, 'history': 71, 'health': 95}, {'name': 'student40', 'chinese': 84, 'english': 73, 'math': 95, 'history': 73, 'health': 59}, {'name': 'student41', 'chinese': 97, 'english': 73, 'math': 90, 'history': 95, 'health': 53}, {'name': 'student42', 'chinese': 66, 'english': 77, 'math': 68, 'history': 100, 'health': 60}, {'name': 'student43', 'chinese': 83, 'english': 55, 'math': 67, 'history': 69, 'health': 87}, {'name': 'student44', 'chinese': 89, 'english': 56, 'math': 74, 'history': 79, 'health': 74}, {'name': 'student45', 'chinese': 95, 'english': 79, 'math': 82, 'history': 64, 'health': 65}, {'name': 'student46', 'chinese': 85, 'english': 58, 'math': 89, 'history': 97, 'health': 67}, {'name': 'student47', 'chinese': 79, 'english': 50, 'math': 62, 'history': 70, 'health': 50}, {'name': 'student48', 'chinese': 77, 'english': 81, 'math': 70, 'history': 57, 'health': 77}, {'name': 'student49', 'chinese': 78, 'english': 69, 'math': 53, 'history': 74, 'health': 90}, {'name': 'student50', 'chinese': 65, 'english': 66, 'math': 56, 'history': 71, 'health': 100}]\""
      ]
     },
     "execution_count": 19,
     "metadata": {},
     "output_type": "execute_result"
    }
   ],
   "source": [
    "import random\n",
    "students = []\n",
    "for i in range(1,51):\n",
    "    students.append(\n",
    "        {\n",
    "            'name':f'student{i}',\n",
    "            'chinese':random.randint(50,100),\n",
    "            'english':random.randint(50,100),\n",
    "            'math':random.randint(50,100),\n",
    "            'history':random.randint(50,100),\n",
    "            'health':random.randint(50,100)\n",
    "        }\n",
    "    )\n",
    "\n",
    "students_str = str(students)\n",
    "students_str"
   ]
  },
  {
   "cell_type": "code",
   "execution_count": 20,
   "metadata": {},
   "outputs": [
    {
     "name": "stdout",
     "output_type": "stream",
     "text": [
      "{'name': 'student1', 'chinese': 70, 'english': 51, 'math': 53, 'history': 58, 'health': 52}\n",
      "{'name': 'student2', 'chinese': 69, 'english': 66, 'math': 84, 'history': 94, 'health': 70}\n",
      "{'name': 'student3', 'chinese': 87, 'english': 61, 'math': 56, 'history': 73, 'health': 72}\n",
      "{'name': 'student4', 'chinese': 63, 'english': 98, 'math': 71, 'history': 53, 'health': 94}\n",
      "{'name': 'student5', 'chinese': 90, 'english': 61, 'math': 76, 'history': 86, 'health': 71}\n",
      "{'name': 'student6', 'chinese': 76, 'english': 79, 'math': 67, 'history': 60, 'health': 60}\n",
      "{'name': 'student7', 'chinese': 100, 'english': 88, 'math': 96, 'history': 83, 'health': 60}\n",
      "{'name': 'student8', 'chinese': 68, 'english': 99, 'math': 62, 'history': 87, 'health': 89}\n",
      "{'name': 'student9', 'chinese': 66, 'english': 59, 'math': 78, 'history': 57, 'health': 80}\n",
      "{'name': 'student10', 'chinese': 98, 'english': 73, 'math': 83, 'history': 70, 'health': 66}\n",
      "{'name': 'student11', 'chinese': 90, 'english': 70, 'math': 80, 'history': 57, 'health': 75}\n",
      "{'name': 'student12', 'chinese': 96, 'english': 99, 'math': 66, 'history': 86, 'health': 84}\n",
      "{'name': 'student13', 'chinese': 76, 'english': 63, 'math': 81, 'history': 68, 'health': 100}\n",
      "{'name': 'student14', 'chinese': 58, 'english': 93, 'math': 66, 'history': 82, 'health': 71}\n",
      "{'name': 'student15', 'chinese': 65, 'english': 55, 'math': 99, 'history': 61, 'health': 56}\n",
      "{'name': 'student16', 'chinese': 82, 'english': 66, 'math': 93, 'history': 67, 'health': 57}\n",
      "{'name': 'student17', 'chinese': 73, 'english': 65, 'math': 66, 'history': 62, 'health': 50}\n",
      "{'name': 'student18', 'chinese': 81, 'english': 63, 'math': 71, 'history': 74, 'health': 62}\n",
      "{'name': 'student19', 'chinese': 54, 'english': 64, 'math': 83, 'history': 99, 'health': 65}\n",
      "{'name': 'student20', 'chinese': 81, 'english': 61, 'math': 72, 'history': 64, 'health': 95}\n",
      "{'name': 'student21', 'chinese': 59, 'english': 97, 'math': 98, 'history': 52, 'health': 99}\n",
      "{'name': 'student22', 'chinese': 91, 'english': 96, 'math': 63, 'history': 81, 'health': 61}\n",
      "{'name': 'student23', 'chinese': 57, 'english': 74, 'math': 88, 'history': 75, 'health': 65}\n",
      "{'name': 'student24', 'chinese': 85, 'english': 81, 'math': 63, 'history': 96, 'health': 65}\n",
      "{'name': 'student25', 'chinese': 78, 'english': 88, 'math': 83, 'history': 87, 'health': 99}\n",
      "{'name': 'student26', 'chinese': 63, 'english': 83, 'math': 92, 'history': 72, 'health': 57}\n",
      "{'name': 'student27', 'chinese': 78, 'english': 97, 'math': 100, 'history': 82, 'health': 85}\n",
      "{'name': 'student28', 'chinese': 82, 'english': 57, 'math': 78, 'history': 88, 'health': 58}\n",
      "{'name': 'student29', 'chinese': 77, 'english': 56, 'math': 66, 'history': 72, 'health': 50}\n",
      "{'name': 'student30', 'chinese': 100, 'english': 66, 'math': 76, 'history': 78, 'health': 86}\n",
      "{'name': 'student31', 'chinese': 85, 'english': 97, 'math': 82, 'history': 76, 'health': 72}\n",
      "{'name': 'student32', 'chinese': 83, 'english': 53, 'math': 52, 'history': 53, 'health': 58}\n",
      "{'name': 'student33', 'chinese': 63, 'english': 87, 'math': 65, 'history': 72, 'health': 52}\n",
      "{'name': 'student34', 'chinese': 55, 'english': 78, 'math': 60, 'history': 64, 'health': 69}\n",
      "{'name': 'student35', 'chinese': 62, 'english': 89, 'math': 92, 'history': 79, 'health': 71}\n",
      "{'name': 'student36', 'chinese': 87, 'english': 92, 'math': 50, 'history': 96, 'health': 94}\n",
      "{'name': 'student37', 'chinese': 81, 'english': 97, 'math': 51, 'history': 98, 'health': 71}\n",
      "{'name': 'student38', 'chinese': 62, 'english': 66, 'math': 53, 'history': 85, 'health': 88}\n",
      "{'name': 'student39', 'chinese': 83, 'english': 73, 'math': 73, 'history': 71, 'health': 95}\n",
      "{'name': 'student40', 'chinese': 84, 'english': 73, 'math': 95, 'history': 73, 'health': 59}\n",
      "{'name': 'student41', 'chinese': 97, 'english': 73, 'math': 90, 'history': 95, 'health': 53}\n",
      "{'name': 'student42', 'chinese': 66, 'english': 77, 'math': 68, 'history': 100, 'health': 60}\n",
      "{'name': 'student43', 'chinese': 83, 'english': 55, 'math': 67, 'history': 69, 'health': 87}\n",
      "{'name': 'student44', 'chinese': 89, 'english': 56, 'math': 74, 'history': 79, 'health': 74}\n",
      "{'name': 'student45', 'chinese': 95, 'english': 79, 'math': 82, 'history': 64, 'health': 65}\n",
      "{'name': 'student46', 'chinese': 85, 'english': 58, 'math': 89, 'history': 97, 'health': 67}\n",
      "{'name': 'student47', 'chinese': 79, 'english': 50, 'math': 62, 'history': 70, 'health': 50}\n",
      "{'name': 'student48', 'chinese': 77, 'english': 81, 'math': 70, 'history': 57, 'health': 77}\n",
      "{'name': 'student49', 'chinese': 78, 'english': 69, 'math': 53, 'history': 74, 'health': 90}\n",
      "{'name': 'student50', 'chinese': 65, 'english': 66, 'math': 56, 'history': 71, 'health': 100}\n"
     ]
    }
   ],
   "source": [
    "for scores in students:\n",
    "    print(scores)"
   ]
  },
  {
   "cell_type": "code",
   "execution_count": 22,
   "metadata": {},
   "outputs": [
    {
     "data": {
      "text/plain": [
       "str"
      ]
     },
     "execution_count": 22,
     "metadata": {},
     "output_type": "execute_result"
    }
   ],
   "source": [
    "# 將 students 列表轉換為字串\n",
    "students_str = '\\n'.join([\n",
    "    f\"姓名:{student['name']}, \"\n",
    "    f\"國文:{student['chinese']}, \"\n",
    "    f\"英文:{student['english']}, \"\n",
    "    f\"數學:{student['math']}, \"\n",
    "    f\"歷史:{student['history']}, \"\n",
    "    f\"健康:{student['health']}\"\n",
    "    for student in students\n",
    "])\n",
    "\n",
    "type(students_str)"
   ]
  },
  {
   "cell_type": "code",
   "execution_count": 24,
   "metadata": {},
   "outputs": [],
   "source": [
    "print(students_str,file=open('students.txt',mode='w',encoding='utf-8'))"
   ]
  }
 ],
 "metadata": {
  "kernelspec": {
   "display_name": "base",
   "language": "python",
   "name": "python3"
  },
  "language_info": {
   "codemirror_mode": {
    "name": "ipython",
    "version": 3
   },
   "file_extension": ".py",
   "mimetype": "text/x-python",
   "name": "python",
   "nbconvert_exporter": "python",
   "pygments_lexer": "ipython3",
   "version": "3.12.2"
  }
 },
 "nbformat": 4,
 "nbformat_minor": 2
}
